{
 "cells": [
  {
   "cell_type": "code",
   "execution_count": null,
   "metadata": {},
   "outputs": [],
   "source": [
    "##### Automatically reload modules #####\n",
    "%load_ext autoreload\n",
    "%autoreload 2"
   ]
  },
  {
   "cell_type": "markdown",
   "metadata": {},
   "source": [
    "# Import Modules"
   ]
  },
  {
   "cell_type": "code",
   "execution_count": null,
   "metadata": {},
   "outputs": [],
   "source": [
    "import os\n",
    "import json\n",
    "import yaml\n",
    "import numpy as np\n",
    "import matplotlib.pyplot as plt\n",
    "import seaborn as sns\n",
    "\n",
    "from pathlib import Path\n",
    "from omegaconf import OmegaConf\n",
    "from matplotlib import gridspec\n",
    "from test_tube import Experiment\n",
    "from tqdm.auto import tqdm\n",
    "\n",
    "##### Pytorch imports #####\n",
    "import torch\n",
    "from torch import nn\n",
    "from torch.utils.data import DataLoader\n",
    "from torchvision import datasets\n",
    "from torchvision.transforms import ToTensor\n",
    "\n",
    "##### Custom imports #####\n",
    "from main import arg_parser\n",
    "from utils import *\n",
    "from models import NeuralNetwork\n",
    "from train import train, test\n",
    "import utils.io_dict_to_hdf5 as ioh5\n",
    "np.set_printoptions(suppress=True)\n",
    "\n",
    "##### Plotting settings ######\n",
    "import matplotlib as mpl\n",
    "sns.set_theme(context='talk', font='Arial', color_codes=True)\n",
    "sns.set_style(\"white\")\n",
    "sns.set_context(\"talk\")\n",
    "mpl.rcParams.update({'font.size':         10,\n",
    "                     'axes.linewidth':    2,\n",
    "                     'xtick.major.size':  3,\n",
    "                     'xtick.major.width': 2,\n",
    "                     'ytick.major.size':  3,\n",
    "                     'ytick.major.width': 2,\n",
    "                     'axes.spines.right': False,\n",
    "                     'axes.spines.top':   False,\n",
    "                     'pdf.fonttype':      42,\n",
    "                     'xtick.labelsize':   10,\n",
    "                     'ytick.labelsize':   10,\n",
    "                     'figure.facecolor': 'white'\n",
    "                    })\n",
    "\n",
    "##### Device settings ######\n",
    "device = torch.device(\"cuda\" if torch.cuda.is_available() else \"cpu\")\n",
    "print(f'Using device: {device}')"
   ]
  },
  {
   "cell_type": "markdown",
   "metadata": {},
   "source": [
    "# Load Config file and argparser"
   ]
  },
  {
   "cell_type": "code",
   "execution_count": null,
   "metadata": {},
   "outputs": [],
   "source": [
    "args = arg_parser(jupyter=True)\n",
    "save_dir = Path(args['save_dir'])\n",
    "save_dir.mkdir(parents=True, exist_ok=True)\n",
    "data_dir = Path('./data/{}/raw/'.format(args['dataset_type']))\n",
    "exp_dir_name = args['dataset_type']\n",
    "ModelID = 'Testing_{}'.format(args['dataset_type'])\n",
    "version = args['version']\n",
    "\n",
    "\n",
    "exp = Experiment(name='{}'.format(ModelID),\n",
    "                    save_dir=save_dir / exp_dir_name, \n",
    "                    debug=False,\n",
    "                    version=version)\n",
    "\n",
    "save_model = exp.save_dir / exp.name / 'version_{}/media'.format(version)\n",
    "fig_path = exp.save_dir / exp.name / 'version_{}/figures'.format(version)\n",
    "fig_path.mkdir(parents=True, exist_ok=True)\n",
    "\n",
    "config_path = Path('./conf/config.yaml')\n",
    "config = OmegaConf.load(config_path)\n",
    "config.args = {'dataset_type': args['dataset_type'], 'version': version, 'save_dir': save_dir, }\n",
    "print(OmegaConf.to_yaml(config))\n"
   ]
  },
  {
   "cell_type": "code",
   "execution_count": null,
   "metadata": {},
   "outputs": [],
   "source": [
    "OmegaConf.save(config=config, f='./conf/config2.yaml')"
   ]
  },
  {
   "cell_type": "code",
   "execution_count": null,
   "metadata": {},
   "outputs": [],
   "source": []
  },
  {
   "cell_type": "markdown",
   "metadata": {},
   "source": [
    "# Basic Pytorch Example"
   ]
  },
  {
   "cell_type": "code",
   "execution_count": null,
   "metadata": {},
   "outputs": [],
   "source": [
    "# Download training data from open datasets.\n",
    "training_data = datasets.FashionMNIST(\n",
    "    root=\"data\",\n",
    "    train=True,\n",
    "    download=True,\n",
    "    transform=ToTensor(),\n",
    ")\n",
    "\n",
    "# Download test data from open datasets.\n",
    "test_data = datasets.FashionMNIST(\n",
    "    root=\"data\",\n",
    "    train=False,\n",
    "    download=True,\n",
    "    transform=ToTensor(),\n",
    ")"
   ]
  },
  {
   "cell_type": "code",
   "execution_count": null,
   "metadata": {},
   "outputs": [],
   "source": [
    "# Create data loaders.\n",
    "train_dataloader = DataLoader(training_data, batch_size=config.model.batch_size)\n",
    "test_dataloader = DataLoader(test_data, batch_size=config.model.batch_size)\n",
    "\n",
    "for X, y in test_dataloader:\n",
    "    print(f\"Shape of X [N, C, H, W]: {X.shape}\")\n",
    "    print(f\"Shape of y: {y.shape} {y.dtype}\")\n",
    "    break"
   ]
  },
  {
   "cell_type": "code",
   "execution_count": null,
   "metadata": {},
   "outputs": [],
   "source": [
    "# Get cpu, gpu or mps device for training.\n",
    "device = (\n",
    "    \"cuda\"\n",
    "    if torch.cuda.is_available()\n",
    "    else \"mps\"\n",
    "    if torch.backends.mps.is_available()\n",
    "    else \"cpu\"\n",
    ")\n",
    "print(f\"Using {device} device\")\n",
    "\n",
    "model = NeuralNetwork().to(device)\n",
    "print(model)"
   ]
  },
  {
   "cell_type": "code",
   "execution_count": null,
   "metadata": {},
   "outputs": [],
   "source": [
    "loss_fn = nn.CrossEntropyLoss()\n",
    "optimizer = torch.optim.SGD(model.parameters(), lr=config.model.lr)"
   ]
  },
  {
   "cell_type": "code",
   "execution_count": null,
   "metadata": {},
   "outputs": [],
   "source": [
    "epochs = 5\n",
    "for t in range(epochs):\n",
    "    print(f\"Epoch {t+1}\\n-------------------------------\")\n",
    "    train(train_dataloader, model, loss_fn, optimizer)\n",
    "    test(test_dataloader, model, loss_fn)\n",
    "print(\"Done!\")"
   ]
  },
  {
   "cell_type": "code",
   "execution_count": null,
   "metadata": {},
   "outputs": [],
   "source": []
  },
  {
   "cell_type": "markdown",
   "metadata": {},
   "source": [
    "# Plotting"
   ]
  },
  {
   "cell_type": "code",
   "execution_count": null,
   "metadata": {},
   "outputs": [],
   "source": [
    "ncol = 3\n",
    "save_figs=False\n",
    "fontsize=12\n",
    "t = 0; dt = 500\n",
    "\n",
    "def create_random_plot(fig_path,figsize=(6, 8),fontsize=12,save_figs=False,t=0,dt=500,nfig=0):\n",
    "    ncol = 3\n",
    "    fig = plt.figure(figsize=figsize) \n",
    "    gs = gridspec.GridSpec(nrows=4, ncols=3) \n",
    "    gs0 = gridspec.GridSpecFromSubplotSpec(1, ncol, subplot_spec=gs[0,:], wspace=.4,hspace=.5)\n",
    "    gs1 = gridspec.GridSpecFromSubplotSpec(1, ncol, subplot_spec=gs[1,:], wspace=.2,hspace=.5)\n",
    "    gs2 = gridspec.GridSpecFromSubplotSpec(1, 1, subplot_spec=gs[2:,:], wspace=.2,hspace=.5)\n",
    "\n",
    "    x_all = []\n",
    "    for k in range(ncol):\n",
    "        ax = plt.subplot(gs0[0,k])\n",
    "        plot_x = (k+1)*np.random.randn(1000,ncol)\n",
    "        x_all.append(plot_x)\n",
    "        ax.plot(plot_x[:,0], plot_x[:,1], '-k', lw=1)\n",
    "        ax.set_xlabel(\"$x_1$\",fontsize=fontsize)\n",
    "        ax.set_ylabel(\"$x_2$\",fontsize=fontsize)\n",
    "        ax.set_xticks([-1,0,1])\n",
    "        ax.set_xticklabels([-1,0,1])\n",
    "        ax.set_yticks([-1,0,1])\n",
    "        ax.set_yticklabels([-1,0,1])\n",
    "        ax.set_title(f'Latent States {k+1}' '\\n' r'$\\tau=${}'.format(k),fontsize=fontsize)\n",
    "        ax.set_aspect('equal', 'box')\n",
    "        \n",
    "        ax = plt.subplot(gs1[0,k])\n",
    "        ax.acorr(plot_x[:,k],maxlags=100,usevlines=True,linestyle='-',color='k',lw=2)\n",
    "        ax.set_xlabel(\"Lag\",fontsize=fontsize)\n",
    "        ax.set_yticks([0,1])\n",
    "        ax.set_ylim(0,1)\n",
    "        if k == 0:\n",
    "            ax.set_ylabel(\"Autocorrelation\",fontsize=fontsize)\n",
    "        elif k == ncol-1:\n",
    "            ax.set_yticks([])\n",
    "    x_all = np.concatenate(x_all,axis=1)\n",
    "    ax = plt.subplot(gs2[0])\n",
    "    for n in range(x_all.shape[-1]):\n",
    "        ax.plot(x_all[t:t+dt,n]/np.max(np.abs(x_all[t:t+dt,n])) + 2*n,'-k')\n",
    "    ax.set_ylabel(\"Latent States\",fontsize=fontsize)\n",
    "    ax.set_xticks([])\n",
    "    ax.set_yticks(np.arange(0,2*x_all.shape[-1],2))\n",
    "    ax.set_yticklabels(np.arange(1,x_all.shape[-1]+1))\n",
    "\n",
    "    plt.tight_layout()\n",
    "\n",
    "    if save_figs:\n",
    "        fig.savefig(fig_path/'{}_RandomPlot.png'.format(nfig))\n",
    "        nfig = nfig+1\n",
    "\n",
    "    return nfig, fig\n"
   ]
  },
  {
   "cell_type": "code",
   "execution_count": null,
   "metadata": {},
   "outputs": [],
   "source": [
    "nfig,fig = create_random_plot(fig_path,config,figsize=(6, 8),fontsize=12,save_figs=False,t=0,dt=500,nfig=0)"
   ]
  },
  {
   "cell_type": "code",
   "execution_count": null,
   "metadata": {},
   "outputs": [],
   "source": []
  }
 ],
 "metadata": {
  "kernelspec": {
   "display_name": "comp_workflow",
   "language": "python",
   "name": "python3"
  },
  "language_info": {
   "codemirror_mode": {
    "name": "ipython",
    "version": 3
   },
   "file_extension": ".py",
   "mimetype": "text/x-python",
   "name": "python",
   "nbconvert_exporter": "python",
   "pygments_lexer": "ipython3",
   "version": "3.10.12"
  },
  "orig_nbformat": 4
 },
 "nbformat": 4,
 "nbformat_minor": 2
}
